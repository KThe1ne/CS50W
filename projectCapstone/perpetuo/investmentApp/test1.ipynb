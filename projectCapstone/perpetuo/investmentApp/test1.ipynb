{
 "cells": [
  {
   "cell_type": "code",
   "execution_count": 4,
   "metadata": {},
   "outputs": [],
   "source": [
    "import pandas as pd\n",
    "import datetime"
   ]
  },
  {
   "cell_type": "code",
   "execution_count": 5,
   "metadata": {},
   "outputs": [],
   "source": [
    "df = pd.read_excel(\"historicaldata.xlsx\")"
   ]
  },
  {
   "cell_type": "code",
   "execution_count": 6,
   "metadata": {},
   "outputs": [
    {
     "data": {
      "text/html": [
       "<div>\n",
       "<style scoped>\n",
       "    .dataframe tbody tr th:only-of-type {\n",
       "        vertical-align: middle;\n",
       "    }\n",
       "\n",
       "    .dataframe tbody tr th {\n",
       "        vertical-align: top;\n",
       "    }\n",
       "\n",
       "    .dataframe thead th {\n",
       "        text-align: right;\n",
       "    }\n",
       "</style>\n",
       "<table border=\"1\" class=\"dataframe\">\n",
       "  <thead>\n",
       "    <tr style=\"text-align: right;\">\n",
       "      <th></th>\n",
       "      <th>Unnamed: 0</th>\n",
       "      <th>startTime</th>\n",
       "      <th>openingPrice</th>\n",
       "      <th>closingPrice</th>\n",
       "    </tr>\n",
       "  </thead>\n",
       "  <tbody>\n",
       "    <tr>\n",
       "      <th>0</th>\n",
       "      <td>0</td>\n",
       "      <td>1661313600</td>\n",
       "      <td>6432.00</td>\n",
       "      <td>6432.00</td>\n",
       "    </tr>\n",
       "    <tr>\n",
       "      <th>1</th>\n",
       "      <td>1</td>\n",
       "      <td>1661299200</td>\n",
       "      <td>6432.00</td>\n",
       "      <td>3000.00</td>\n",
       "    </tr>\n",
       "    <tr>\n",
       "      <th>2</th>\n",
       "      <td>2</td>\n",
       "      <td>1661284800</td>\n",
       "      <td>3000.00</td>\n",
       "      <td>6432.00</td>\n",
       "    </tr>\n",
       "    <tr>\n",
       "      <th>3</th>\n",
       "      <td>3</td>\n",
       "      <td>1661270400</td>\n",
       "      <td>4522.00</td>\n",
       "      <td>3000.00</td>\n",
       "    </tr>\n",
       "    <tr>\n",
       "      <th>4</th>\n",
       "      <td>4</td>\n",
       "      <td>1661256000</td>\n",
       "      <td>432.00</td>\n",
       "      <td>3000.00</td>\n",
       "    </tr>\n",
       "    <tr>\n",
       "      <th>...</th>\n",
       "      <td>...</td>\n",
       "      <td>...</td>\n",
       "      <td>...</td>\n",
       "      <td>...</td>\n",
       "    </tr>\n",
       "    <tr>\n",
       "      <th>156</th>\n",
       "      <td>156</td>\n",
       "      <td>1658808000</td>\n",
       "      <td>19999.99</td>\n",
       "      <td>1000.00</td>\n",
       "    </tr>\n",
       "    <tr>\n",
       "      <th>157</th>\n",
       "      <td>157</td>\n",
       "      <td>1658779200</td>\n",
       "      <td>1000.00</td>\n",
       "      <td>19999.99</td>\n",
       "    </tr>\n",
       "    <tr>\n",
       "      <th>158</th>\n",
       "      <td>158</td>\n",
       "      <td>1658764800</td>\n",
       "      <td>19999.99</td>\n",
       "      <td>1000.00</td>\n",
       "    </tr>\n",
       "    <tr>\n",
       "      <th>159</th>\n",
       "      <td>159</td>\n",
       "      <td>1658750400</td>\n",
       "      <td>1000.00</td>\n",
       "      <td>1000.00</td>\n",
       "    </tr>\n",
       "    <tr>\n",
       "      <th>160</th>\n",
       "      <td>160</td>\n",
       "      <td>1658736000</td>\n",
       "      <td>18000.00</td>\n",
       "      <td>1046.30</td>\n",
       "    </tr>\n",
       "  </tbody>\n",
       "</table>\n",
       "<p>161 rows × 4 columns</p>\n",
       "</div>"
      ],
      "text/plain": [
       "     Unnamed: 0   startTime  openingPrice  closingPrice\n",
       "0             0  1661313600       6432.00       6432.00\n",
       "1             1  1661299200       6432.00       3000.00\n",
       "2             2  1661284800       3000.00       6432.00\n",
       "3             3  1661270400       4522.00       3000.00\n",
       "4             4  1661256000        432.00       3000.00\n",
       "..          ...         ...           ...           ...\n",
       "156         156  1658808000      19999.99       1000.00\n",
       "157         157  1658779200       1000.00      19999.99\n",
       "158         158  1658764800      19999.99       1000.00\n",
       "159         159  1658750400       1000.00       1000.00\n",
       "160         160  1658736000      18000.00       1046.30\n",
       "\n",
       "[161 rows x 4 columns]"
      ]
     },
     "execution_count": 6,
     "metadata": {},
     "output_type": "execute_result"
    }
   ],
   "source": [
    "df"
   ]
  },
  {
   "cell_type": "code",
   "execution_count": 7,
   "metadata": {},
   "outputs": [
    {
     "name": "stdout",
     "output_type": "stream",
     "text": [
      "2022-08-24 00:00:00\n",
      "2022-07-25 04:00:00\n"
     ]
    }
   ],
   "source": [
    "print(datetime.datetime.fromtimestamp(df[\"startTime\"][0]))\n",
    "print(datetime.datetime.fromtimestamp(df[\"startTime\"].iloc[-1]))"
   ]
  },
  {
   "cell_type": "code",
   "execution_count": 8,
   "metadata": {},
   "outputs": [],
   "source": [
    "df1 = df.copy(deep=True)"
   ]
  },
  {
   "cell_type": "code",
   "execution_count": 9,
   "metadata": {},
   "outputs": [
    {
     "data": {
      "text/plain": [
       "0"
      ]
     },
     "execution_count": 9,
     "metadata": {},
     "output_type": "execute_result"
    }
   ],
   "source": [
    "# Display 1 month results of investing the same amount everyday at the same price\n",
    "df1[\"startTime\"] = df[\"startTime\"].map(lambda time: datetime.datetime.fromtimestamp(time))\n",
    "df1[\"startTime\"][0].hour"
   ]
  },
  {
   "cell_type": "code",
   "execution_count": 10,
   "metadata": {},
   "outputs": [],
   "source": [
    "df1[\"status\"] = df1[\"startTime\"].map(lambda x: \"purchase\" if x.hour == 12 else \"\")"
   ]
  },
  {
   "cell_type": "code",
   "execution_count": 11,
   "metadata": {},
   "outputs": [
    {
     "data": {
      "text/plain": [
       "6000"
      ]
     },
     "execution_count": 11,
     "metadata": {},
     "output_type": "execute_result"
    }
   ],
   "source": [
    "# currPrice = df[\"openingPrice\"].iloc[-1]\n",
    "currPrice = 6000\n",
    "currPrice"
   ]
  },
  {
   "cell_type": "code",
   "execution_count": 12,
   "metadata": {},
   "outputs": [],
   "source": [
    "# purchases = df1.loc[df1.status == \"purchase\"]\n",
    "# purchases.drop(\"Unnamed: 0\", axis=1, inplace=True)\n",
    "# purchases.reset_index(inplace=True, drop=True)\n",
    "# purchases"
   ]
  },
  {
   "cell_type": "code",
   "execution_count": 13,
   "metadata": {},
   "outputs": [],
   "source": [
    "purchases = pd.DataFrame([{\"averagePrice\": 1000}, {\"averagePrice\": 2000}, {\"averagePrice\": 3000}])"
   ]
  },
  {
   "cell_type": "code",
   "execution_count": 14,
   "metadata": {},
   "outputs": [],
   "source": [
    "def getGrowth(row):\n",
    "\n",
    "    # averagePrice = (row[\"openingPrice\"] + row[\"closingPrice\"])/2\n",
    "    averagePrice = row[\"averagePrice\"]\n",
    "    row[\"growth\"] = (currPrice-averagePrice)*100/averagePrice\n",
    "\n",
    "    return row\n",
    "\n",
    "purchases = purchases.apply(getGrowth, axis=\"columns\")"
   ]
  },
  {
   "cell_type": "code",
   "execution_count": 15,
   "metadata": {},
   "outputs": [
    {
     "data": {
      "text/html": [
       "<div>\n",
       "<style scoped>\n",
       "    .dataframe tbody tr th:only-of-type {\n",
       "        vertical-align: middle;\n",
       "    }\n",
       "\n",
       "    .dataframe tbody tr th {\n",
       "        vertical-align: top;\n",
       "    }\n",
       "\n",
       "    .dataframe thead th {\n",
       "        text-align: right;\n",
       "    }\n",
       "</style>\n",
       "<table border=\"1\" class=\"dataframe\">\n",
       "  <thead>\n",
       "    <tr style=\"text-align: right;\">\n",
       "      <th></th>\n",
       "      <th>averagePrice</th>\n",
       "      <th>growth</th>\n",
       "    </tr>\n",
       "  </thead>\n",
       "  <tbody>\n",
       "    <tr>\n",
       "      <th>0</th>\n",
       "      <td>1000.0</td>\n",
       "      <td>500.0</td>\n",
       "    </tr>\n",
       "    <tr>\n",
       "      <th>1</th>\n",
       "      <td>2000.0</td>\n",
       "      <td>200.0</td>\n",
       "    </tr>\n",
       "    <tr>\n",
       "      <th>2</th>\n",
       "      <td>3000.0</td>\n",
       "      <td>100.0</td>\n",
       "    </tr>\n",
       "  </tbody>\n",
       "</table>\n",
       "</div>"
      ],
      "text/plain": [
       "   averagePrice  growth\n",
       "0        1000.0   500.0\n",
       "1        2000.0   200.0\n",
       "2        3000.0   100.0"
      ]
     },
     "execution_count": 15,
     "metadata": {},
     "output_type": "execute_result"
    }
   ],
   "source": [
    "purchases"
   ]
  },
  {
   "cell_type": "code",
   "execution_count": 16,
   "metadata": {},
   "outputs": [
    {
     "data": {
      "text/plain": [
       "266.6666666666667"
      ]
     },
     "execution_count": 16,
     "metadata": {},
     "output_type": "execute_result"
    }
   ],
   "source": [
    "purchases[\"growth\"].mean()"
   ]
  },
  {
   "cell_type": "code",
   "execution_count": 17,
   "metadata": {},
   "outputs": [
    {
     "name": "stdout",
     "output_type": "stream",
     "text": [
      "2022-08-25 11:23:07.603068\n",
      "1629904987\n"
     ]
    }
   ],
   "source": [
    "from datetime import timedelta\n",
    "import time\n",
    "\n",
    "date = datetime.datetime.today()\n",
    "date1 = date - datetime.timedelta(days=365)\n",
    "date1 = datetime.datetime.timestamp(date1)\n",
    "print(date)\n",
    "print(int(date1))"
   ]
  },
  {
   "cell_type": "code",
   "execution_count": 25,
   "metadata": {},
   "outputs": [
    {
     "ename": "TypeError",
     "evalue": "descriptor 'timestamp' for 'datetime.datetime' objects doesn't apply to a 'datetime.timedelta' object",
     "output_type": "error",
     "traceback": [
      "\u001b[1;31m---------------------------------------------------------------------------\u001b[0m",
      "\u001b[1;31mTypeError\u001b[0m                                 Traceback (most recent call last)",
      "\u001b[1;32mc:\\CompApp\\CS50W\\projectCapstone\\perpetuo\\investmentApp\\test1.ipynb Cell 15\u001b[0m in \u001b[0;36m<cell line: 1>\u001b[1;34m()\u001b[0m\n\u001b[1;32m----> <a href='vscode-notebook-cell:/c%3A/CompApp/CS50W/projectCapstone/perpetuo/investmentApp/test1.ipynb#X20sZmlsZQ%3D%3D?line=0'>1</a>\u001b[0m datetime\u001b[39m.\u001b[39;49mdatetime\u001b[39m.\u001b[39;49mtimestamp(datetime\u001b[39m.\u001b[39;49mtimedelta(days\u001b[39m=\u001b[39;49m\u001b[39m7\u001b[39;49m))\n",
      "\u001b[1;31mTypeError\u001b[0m: descriptor 'timestamp' for 'datetime.datetime' objects doesn't apply to a 'datetime.timedelta' object"
     ]
    }
   ],
   "source": [
    "datetime.datetime.timestamp(datetime.timedelta(days=7))"
   ]
  }
 ],
 "metadata": {
  "kernelspec": {
   "display_name": "Python 3.10.6 ('env': venv)",
   "language": "python",
   "name": "python3"
  },
  "language_info": {
   "codemirror_mode": {
    "name": "ipython",
    "version": 3
   },
   "file_extension": ".py",
   "mimetype": "text/x-python",
   "name": "python",
   "nbconvert_exporter": "python",
   "pygments_lexer": "ipython3",
   "version": "3.10.6"
  },
  "orig_nbformat": 4,
  "vscode": {
   "interpreter": {
    "hash": "11bc7874daa90f90bd8e585d40c9a04b74e27b3350ae7a1d5a4424d9a5c1f3b5"
   }
  }
 },
 "nbformat": 4,
 "nbformat_minor": 2
}
