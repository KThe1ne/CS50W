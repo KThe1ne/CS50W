{
 "cells": [
  {
   "cell_type": "code",
   "execution_count": 1,
   "metadata": {},
   "outputs": [],
   "source": [
    "import numpy as np"
   ]
  },
  {
   "cell_type": "code",
   "execution_count": 2,
   "metadata": {},
   "outputs": [],
   "source": [
    "prices = np.arange(10000, 90000, 1000)"
   ]
  },
  {
   "cell_type": "code",
   "execution_count": 3,
   "metadata": {},
   "outputs": [
    {
     "data": {
      "text/plain": [
       "array([10000, 11000, 12000, 13000, 14000, 15000, 16000, 17000, 18000,\n",
       "       19000, 20000, 21000, 22000, 23000, 24000, 25000, 26000, 27000,\n",
       "       28000, 29000, 30000, 31000, 32000, 33000, 34000, 35000, 36000,\n",
       "       37000, 38000, 39000, 40000, 41000, 42000, 43000, 44000, 45000,\n",
       "       46000, 47000, 48000, 49000, 50000, 51000, 52000, 53000, 54000,\n",
       "       55000, 56000, 57000, 58000, 59000, 60000, 61000, 62000, 63000,\n",
       "       64000, 65000, 66000, 67000, 68000, 69000, 70000, 71000, 72000,\n",
       "       73000, 74000, 75000, 76000, 77000, 78000, 79000, 80000, 81000,\n",
       "       82000, 83000, 84000, 85000, 86000, 87000, 88000, 89000])"
      ]
     },
     "execution_count": 3,
     "metadata": {},
     "output_type": "execute_result"
    }
   ],
   "source": [
    "prices"
   ]
  },
  {
   "cell_type": "code",
   "execution_count": 85,
   "metadata": {},
   "outputs": [],
   "source": [
    "userEntryPrices = [1000,2000,3000,4000, 2000]\n",
    "userEntrySize = [100,100,100,100,-400]\n"
   ]
  },
  {
   "cell_type": "code",
   "execution_count": 66,
   "metadata": {},
   "outputs": [
    {
     "name": "stdout",
     "output_type": "stream",
     "text": [
      "0.1\n",
      "0.15000000000000002\n",
      "0.18333333333333335\n",
      "0.20833333333333334\n",
      "0.20833333333333334\n"
     ]
    },
    {
     "data": {
      "text/plain": [
       "76.8"
      ]
     },
     "execution_count": 66,
     "metadata": {},
     "output_type": "execute_result"
    }
   ],
   "source": [
    "#Assuming user buys 100 units each time\n",
    "\n",
    "growth = 0\n",
    "curr_price = 2500\n",
    "curr_bought = float(0)\n",
    "\n",
    "for i, entry in enumerate(userEntryPrices):\n",
    "    if userEntrySize[i]>0:\n",
    "        curr_bought += userEntrySize[i]/entry\n",
    "    print(curr_bought)\n",
    "\n",
    "avg_buy_price = sum([entrySize for entrySize in userEntrySize if entrySize>0])/curr_bought\n",
    "growth = (avg_buy_price/curr_price)*100\n",
    "growth\n",
    "    "
   ]
  },
  {
   "cell_type": "code",
   "execution_count": 86,
   "metadata": {},
   "outputs": [
    {
     "name": "stdout",
     "output_type": "stream",
     "text": [
      "0\n",
      "0.1\n",
      "Amount Invested=100.0\n",
      "Average Buy Price=1000.0\n",
      "Growth=0.0\n",
      "1\n",
      "0.15000000000000002\n",
      "Amount Invested=300.00000000000006\n",
      "Average Buy Price=2000.0\n",
      "Growth=50.0\n",
      "2\n",
      "0.18333333333333335\n",
      "Amount Invested=550.0\n",
      "Average Buy Price=2999.9999999999995\n",
      "Growth=33.33333333333333\n",
      "3\n",
      "0.20833333333333334\n",
      "Amount Invested=833.3333333333334\n",
      "Average Buy Price=4000.0\n",
      "Growth=25.00000000000001\n",
      "4\n",
      "0.008333333333333331\n",
      "Amount Invested=16.666666666666664\n",
      "Average Buy Price=2000.0000000000002\n",
      "Growth=-99.99999999999997\n"
     ]
    },
    {
     "data": {
      "text/plain": [
       "-99.99999999999997"
      ]
     },
     "execution_count": 86,
     "metadata": {},
     "output_type": "execute_result"
    }
   ],
   "source": [
    "growth = 0\n",
    "curr_price = 2500\n",
    "curr_bought = float(0)\n",
    "avg_buy_prices = []\n",
    "\n",
    "\n",
    "for i, entry in enumerate(userEntryPrices):\n",
    "    # if userEntrySize[i]>0:\n",
    "    print(i)\n",
    "    curr_bought += userEntrySize[i]/entry\n",
    "    print(curr_bought)\n",
    "    amount_invested = curr_bought*entry\n",
    "    print(\"Amount Invested=\"+ str(amount_invested))\n",
    "    avg_buy_price = amount_invested/curr_bought\n",
    "    avg_buy_prices.append(avg_buy_price)\n",
    "    print(\"Average Buy Price=\" + str(avg_buy_price))\n",
    "    growth = ((avg_buy_prices[i] - avg_buy_prices[i-1])/avg_buy_prices[i])*100\n",
    "    print(\"Growth=\"+ str(growth))\n",
    "    # if i>0 and i<len(userEntryPrices)-1:\n",
    "    #     growth = (avg_buy_price/userEntryPrices[i+1])*100\n",
    "    #     print(\"Growth=\"+ str(growth))\n",
    "    # print(curr_bought)\n",
    "\n",
    "growth"
   ]
  },
  {
   "cell_type": "code",
   "execution_count": 76,
   "metadata": {},
   "outputs": [
    {
     "data": {
      "text/plain": [
       "[100, 100, 100, 100, -400]"
      ]
     },
     "execution_count": 76,
     "metadata": {},
     "output_type": "execute_result"
    }
   ],
   "source": [
    "userEntrySize[:4+1]"
   ]
  },
  {
   "cell_type": "code",
   "execution_count": 34,
   "metadata": {},
   "outputs": [
    {
     "name": "stdout",
     "output_type": "stream",
     "text": [
      "[100, 100, 100, 100, -400]\n",
      "0\n",
      "[100, 100, 100, 100, -400]\n",
      "0\n",
      "[100, 100, 100, 100, -400]\n",
      "0\n",
      "[100, 100, 100, 100, -400]\n",
      "0\n",
      "[100, 100, 100, 100, -400]\n",
      "0\n"
     ]
    }
   ],
   "source": [
    "for entry, i in enumerate(userEntryPrices):\n",
    "\n",
    "    num_of_purchases = [entry for entry in userEntrySize]\n",
    "    print(num_of_purchases)\n",
    "    num_of_purchases = sum(num_of_purchases)\n",
    "    print(num_of_purchases)\n",
    "\n",
    "\n",
    "    "
   ]
  },
  {
   "cell_type": "code",
   "execution_count": null,
   "metadata": {},
   "outputs": [
    {
     "ename": "TypeError",
     "evalue": "'int' object is not callable",
     "output_type": "error",
     "traceback": [
      "\u001b[1;31m---------------------------------------------------------------------------\u001b[0m",
      "\u001b[1;31mTypeError\u001b[0m                                 Traceback (most recent call last)",
      "\u001b[1;32mc:\\CompApp\\CS50W\\projectCapstone\\perpetuo\\investmentApp\\test.ipynb Cell 7\u001b[0m in \u001b[0;36m<cell line: 1>\u001b[1;34m()\u001b[0m\n\u001b[1;32m----> <a href='vscode-notebook-cell:/c%3A/CompApp/CS50W/projectCapstone/perpetuo/investmentApp/test.ipynb#X11sZmlsZQ%3D%3D?line=0'>1</a>\u001b[0m \u001b[39msum\u001b[39;49m([\u001b[39mTrue\u001b[39;49;00m, \u001b[39mFalse\u001b[39;49;00m])\n",
      "\u001b[1;31mTypeError\u001b[0m: 'int' object is not callable"
     ]
    }
   ],
   "source": [
    "sum([True, False])"
   ]
  },
  {
   "cell_type": "code",
   "execution_count": null,
   "metadata": {},
   "outputs": [
    {
     "data": {
      "text/plain": [
       "5.405891405590429"
      ]
     },
     "execution_count": 13,
     "metadata": {},
     "output_type": "execute_result"
    }
   ],
   "source": [
    "growth"
   ]
  },
  {
   "cell_type": "code",
   "execution_count": null,
   "metadata": {},
   "outputs": [
    {
     "name": "stdout",
     "output_type": "stream",
     "text": [
      "Help on class list in module builtins:\n",
      "\n",
      "class list(object)\n",
      " |  list(iterable=(), /)\n",
      " |  \n",
      " |  Built-in mutable sequence.\n",
      " |  \n",
      " |  If no argument is given, the constructor creates a new empty list.\n",
      " |  The argument must be an iterable if specified.\n",
      " |  \n",
      " |  Methods defined here:\n",
      " |  \n",
      " |  __add__(self, value, /)\n",
      " |      Return self+value.\n",
      " |  \n",
      " |  __contains__(self, key, /)\n",
      " |      Return key in self.\n",
      " |  \n",
      " |  __delitem__(self, key, /)\n",
      " |      Delete self[key].\n",
      " |  \n",
      " |  __eq__(self, value, /)\n",
      " |      Return self==value.\n",
      " |  \n",
      " |  __ge__(self, value, /)\n",
      " |      Return self>=value.\n",
      " |  \n",
      " |  __getattribute__(self, name, /)\n",
      " |      Return getattr(self, name).\n",
      " |  \n",
      " |  __getitem__(...)\n",
      " |      x.__getitem__(y) <==> x[y]\n",
      " |  \n",
      " |  __gt__(self, value, /)\n",
      " |      Return self>value.\n",
      " |  \n",
      " |  __iadd__(self, value, /)\n",
      " |      Implement self+=value.\n",
      " |  \n",
      " |  __imul__(self, value, /)\n",
      " |      Implement self*=value.\n",
      " |  \n",
      " |  __init__(self, /, *args, **kwargs)\n",
      " |      Initialize self.  See help(type(self)) for accurate signature.\n",
      " |  \n",
      " |  __iter__(self, /)\n",
      " |      Implement iter(self).\n",
      " |  \n",
      " |  __le__(self, value, /)\n",
      " |      Return self<=value.\n",
      " |  \n",
      " |  __len__(self, /)\n",
      " |      Return len(self).\n",
      " |  \n",
      " |  __lt__(self, value, /)\n",
      " |      Return self<value.\n",
      " |  \n",
      " |  __mul__(self, value, /)\n",
      " |      Return self*value.\n",
      " |  \n",
      " |  __ne__(self, value, /)\n",
      " |      Return self!=value.\n",
      " |  \n",
      " |  __repr__(self, /)\n",
      " |      Return repr(self).\n",
      " |  \n",
      " |  __reversed__(self, /)\n",
      " |      Return a reverse iterator over the list.\n",
      " |  \n",
      " |  __rmul__(self, value, /)\n",
      " |      Return value*self.\n",
      " |  \n",
      " |  __setitem__(self, key, value, /)\n",
      " |      Set self[key] to value.\n",
      " |  \n",
      " |  __sizeof__(self, /)\n",
      " |      Return the size of the list in memory, in bytes.\n",
      " |  \n",
      " |  append(self, object, /)\n",
      " |      Append object to the end of the list.\n",
      " |  \n",
      " |  clear(self, /)\n",
      " |      Remove all items from list.\n",
      " |  \n",
      " |  copy(self, /)\n",
      " |      Return a shallow copy of the list.\n",
      " |  \n",
      " |  count(self, value, /)\n",
      " |      Return number of occurrences of value.\n",
      " |  \n",
      " |  extend(self, iterable, /)\n",
      " |      Extend list by appending elements from the iterable.\n",
      " |  \n",
      " |  index(self, value, start=0, stop=9223372036854775807, /)\n",
      " |      Return first index of value.\n",
      " |      \n",
      " |      Raises ValueError if the value is not present.\n",
      " |  \n",
      " |  insert(self, index, object, /)\n",
      " |      Insert object before index.\n",
      " |  \n",
      " |  pop(self, index=-1, /)\n",
      " |      Remove and return item at index (default last).\n",
      " |      \n",
      " |      Raises IndexError if list is empty or index is out of range.\n",
      " |  \n",
      " |  remove(self, value, /)\n",
      " |      Remove first occurrence of value.\n",
      " |      \n",
      " |      Raises ValueError if the value is not present.\n",
      " |  \n",
      " |  reverse(self, /)\n",
      " |      Reverse *IN PLACE*.\n",
      " |  \n",
      " |  sort(self, /, *, key=None, reverse=False)\n",
      " |      Sort the list in ascending order and return None.\n",
      " |      \n",
      " |      The sort is in-place (i.e. the list itself is modified) and stable (i.e. the\n",
      " |      order of two equal elements is maintained).\n",
      " |      \n",
      " |      If a key function is given, apply it once to each list item and sort them,\n",
      " |      ascending or descending, according to their function values.\n",
      " |      \n",
      " |      The reverse flag can be set to sort in descending order.\n",
      " |  \n",
      " |  ----------------------------------------------------------------------\n",
      " |  Class methods defined here:\n",
      " |  \n",
      " |  __class_getitem__(...) from builtins.type\n",
      " |      See PEP 585\n",
      " |  \n",
      " |  ----------------------------------------------------------------------\n",
      " |  Static methods defined here:\n",
      " |  \n",
      " |  __new__(*args, **kwargs) from builtins.type\n",
      " |      Create and return a new object.  See help(type) for accurate signature.\n",
      " |  \n",
      " |  ----------------------------------------------------------------------\n",
      " |  Data and other attributes defined here:\n",
      " |  \n",
      " |  __hash__ = None\n",
      "\n"
     ]
    }
   ],
   "source": [
    "help(list)"
   ]
  }
 ],
 "metadata": {
  "kernelspec": {
   "display_name": "Python 3.9.13 ('venv': venv)",
   "language": "python",
   "name": "python3"
  },
  "language_info": {
   "codemirror_mode": {
    "name": "ipython",
    "version": 3
   },
   "file_extension": ".py",
   "mimetype": "text/x-python",
   "name": "python",
   "nbconvert_exporter": "python",
   "pygments_lexer": "ipython3",
   "version": "3.9.13"
  },
  "orig_nbformat": 4,
  "vscode": {
   "interpreter": {
    "hash": "2cbb830e53cdc9ce428ebfbe75741ca6c04fcd725817f35b7e193e2b6263832c"
   }
  }
 },
 "nbformat": 4,
 "nbformat_minor": 2
}
